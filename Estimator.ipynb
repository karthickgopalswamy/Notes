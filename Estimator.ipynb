{
  "nbformat": 4,
  "nbformat_minor": 0,
  "metadata": {
    "colab": {
      "name": "Estimator",
      "version": "0.3.2",
      "provenance": [],
      "collapsed_sections": [],
      "include_colab_link": true
    },
    "kernelspec": {
      "name": "python3",
      "display_name": "Python 3"
    },
    "accelerator": "TPU"
  },
  "cells": [
    {
      "cell_type": "markdown",
      "metadata": {
        "id": "view-in-github",
        "colab_type": "text"
      },
      "source": [
        "<a href=\"https://colab.research.google.com/github/karthickgopalswamy/Notes/blob/master/Estimator.ipynb\" target=\"_parent\"><img src=\"https://colab.research.google.com/assets/colab-badge.svg\" alt=\"Open In Colab\"/></a>"
      ]
    },
    {
      "cell_type": "markdown",
      "metadata": {
        "id": "GO5_jxZSXMF7",
        "colab_type": "text"
      },
      "source": [
        "# Estimator API: MNIST dataset \n"
      ]
    },
    {
      "cell_type": "code",
      "metadata": {
        "id": "sWzeCUsuZCHn",
        "colab_type": "code",
        "outputId": "ca4ffd17-9897-4f13-c00b-cd41a34fe8a0",
        "colab": {
          "base_uri": "https://localhost:8080/",
          "height": 34
        }
      },
      "source": [
        "import numpy as np\n",
        "import shutil\n",
        "import os\n",
        "import tensorflow as tf\n",
        "print(tf.__version__)\n",
        "TPU_WORKER = 'grpc://' + os.environ['COLAB_TPU_ADDR']"
      ],
      "execution_count": 0,
      "outputs": [
        {
          "output_type": "stream",
          "text": [
            "1.12.0\n"
          ],
          "name": "stdout"
        }
      ]
    },
    {
      "cell_type": "code",
      "metadata": {
        "id": "qwTOCiPcdM_t",
        "colab_type": "code",
        "outputId": "cbb2b2fc-0852-4023-f162-9788c20d7d54",
        "colab": {
          "base_uri": "https://localhost:8080/",
          "height": 51
        }
      },
      "source": [
        "input_data = tf.keras.datasets.mnist\n",
        "(mnist_train_images, mnist_train_labels), (mnist_test_images, mnist_test_labels) = input_data.load_data()\n",
        "mnist_train_images = mnist_train_images.astype(np.float32)\n",
        "mnist_test_images = mnist_test_images.astype(np.float32)\n",
        "print(mnist_train_images.shape)\n",
        "print(mnist_train_labels.shape)"
      ],
      "execution_count": 0,
      "outputs": [
        {
          "output_type": "stream",
          "text": [
            "(60000, 28, 28)\n",
            "(60000,)\n"
          ],
          "name": "stdout"
        }
      ]
    },
    {
      "cell_type": "code",
      "metadata": {
        "id": "unJBSxyUdPhD",
        "colab_type": "code",
        "outputId": "99fcfd68-502e-41cd-b3d0-5d94824de786",
        "colab": {
          "base_uri": "https://localhost:8080/",
          "height": 51
        }
      },
      "source": [
        "HEIGHT=28\n",
        "WIDTH=28\n",
        "NCLASSES=10\n",
        "# mnist_train_labels = tf.keras.utils.to_categorical(mnist_train_labels,NCLASSES)\n",
        "# mnist_test_labels = tf.keras.utils.to_categorical(mnist_test_labels,NCLASSES)\n",
        "mnist_train_labels = tf.one_hot(mnist_train_labels,NCLASSES)\n",
        "mnist_test_labels = tf.one_hot(mnist_test_labels,NCLASSES)\n",
        "print(mnist_train_images.shape)\n",
        "print(mnist_train_labels.shape)"
      ],
      "execution_count": 0,
      "outputs": [
        {
          "output_type": "stream",
          "text": [
            "(60000, 28, 28)\n",
            "(60000, 10)\n"
          ],
          "name": "stdout"
        }
      ]
    },
    {
      "cell_type": "code",
      "metadata": {
        "id": "UTiwJr53dSbh",
        "colab_type": "code",
        "outputId": "d51be65d-b3ae-4979-a5cd-f5db3ffdbd19",
        "colab": {
          "base_uri": "https://localhost:8080/",
          "height": 347
        }
      },
      "source": [
        "import matplotlib.pyplot as plt\n",
        "IMGNO=14\n",
        "plt.imshow(mnist_test_images[IMGNO].reshape(HEIGHT, WIDTH));"
      ],
      "execution_count": 0,
      "outputs": [
        {
          "output_type": "display_data",
          "data": {
            "image/png": "[encoded data removed]",
            "text/plain": [
              "<matplotlib.figure.Figure at 0x7f68031ad898>"
            ]
          },
          "metadata": {
            "tags": []
          }
        }
      ]
    },
    {
      "cell_type": "code",
      "metadata": {
        "id": "onlcPhCqdU-a",
        "colab_type": "code",
        "colab": {}
      },
      "source": [
        "def max_out(inputs, num_units, axis=None):\n",
        "    shape = inputs.get_shape().as_list()\n",
        "    if shape[0] is None:\n",
        "        shape[0] = -1\n",
        "    if axis is None:  # Assume that channel is the last dimension\n",
        "        axis = -1\n",
        "    num_channels = shape[axis]\n",
        "    if num_channels % num_units:\n",
        "        raise ValueError('number of features({}) is not '\n",
        "                         'a multiple of num_units({})'.format(num_channels, num_units))\n",
        "    shape[axis] = num_units\n",
        "    shape += [num_channels // num_units]\n",
        "    outputs = tf.reduce_max(tf.reshape(inputs, shape), -1, keep_dims=False)\n",
        "    return outputs\n",
        "  \n",
        "def soft_max_out(inputs, num_units, axis=None,layer = None):\n",
        "    shape = inputs.get_shape().as_list()\n",
        "    if shape[0] is None:\n",
        "        shape[0] = -1\n",
        "    if axis is None:  # Assume that channel is the last dimension\n",
        "        axis = -1\n",
        "    num_channels = shape[axis]\n",
        "    if num_channels % num_units:\n",
        "        raise ValueError('number of features({}) is not '\n",
        "                         'a multiple of num_units({})'.format(num_channels, num_units))\n",
        "    shape[axis] = num_units\n",
        "    shape += [num_channels // num_units]\n",
        "    with tf.variable_scope(\"softmax{}\".format(layer)):\n",
        "      alpha = tf.get_variable('alpha', shape = [num_units],trainable=True, dtype=tf.float32, initializer = tf.initializers.random_uniform(minval = 1, maxval = 1000,dtype=tf.float32), constraint= tf.keras.constraints.non_neg())\n",
        "    outputs = (1/alpha)*tf.reduce_logsumexp(tf.expand_dims(alpha,-1)*tf.reshape(inputs,shape),-1,keepdims = False)\n",
        "    return outputs\n",
        "  \n",
        "def linear_model(img):\n",
        "  X = tf.reshape(img,[-1,HEIGHT*WIDTH]) #flatten\n",
        "#   X = tf.layers.dropout(X,rate=0.5)\n",
        "\n",
        "  X = tf.layers.dense(X,1200, activation=None,kernel_constraint = tf.keras.constraints.max_norm(1.9325, axis  = 0))\n",
        "  X = tf.layers.dropout(X,rate=0.5)\n",
        "  X = tf.layers.batch_normalization(X)  \n",
        "#   X = soft_max_out(X,240,layer = 1)#   \n",
        "  X = tf.contrib.layers.maxout(X,240)\n",
        "\n",
        "  X = tf.layers.batch_normalization(X)\n",
        "  X = tf.layers.dense(X,1200, activation=None,kernel_constraint = tf.keras.constraints.max_norm(1.9325, axis  = 0))\n",
        "#   X = max_out(X,480)\n",
        "  X = tf.layers.batch_normalization(X)\n",
        "  X = tf.contrib.layers.maxout(X,240)\n",
        "#   X = soft_max_out(X,240,layer = 2)\n",
        "  ylogits = tf.layers.dense(X,NCLASSES,activation=None)\n",
        "  return ylogits, NCLASSES"
      ],
      "execution_count": 0,
      "outputs": []
    },
    {
      "cell_type": "code",
      "metadata": {
        "id": "TUSyRqk7kUX2",
        "colab_type": "code",
        "colab": {}
      },
      "source": [
        ""
      ],
      "execution_count": 0,
      "outputs": []
    },
    {
      "cell_type": "code",
      "metadata": {
        "id": "F2Oe6O1WdXhW",
        "colab_type": "code",
        "colab": {}
      },
      "source": [
        "def train_input_fn(params):\n",
        "  return tf.estimator.inputs.numpy_input_fn(\n",
        "    x={'image':mnist_train_images},\n",
        "    y=mnist_train_labels,\n",
        "    batch_size=params['batch_size'],\n",
        "    num_epochs=None,\n",
        "    shuffle=True,\n",
        "    queue_capacity=5000\n",
        "  )\n",
        "\n",
        "def eval_input_fn(params): \n",
        "  return tf.estimator.inputs.numpy_input_fn(\n",
        "    x={'image':mnist_test_images},\n",
        "    y=mnist_test_labels,\n",
        "    batch_size= params['batch_size'],\n",
        "    num_epochs=1,\n",
        "    shuffle=False,\n",
        "    queue_capacity=5000\n",
        "  )\n",
        "\n",
        "def serving_input_fn():\n",
        "    inputs = {'image': tf.placeholder(tf.float32, [None, HEIGHT, WIDTH])}\n",
        "    features = inputs # as-is\n",
        "    return tf.estimator.export.ServingInputReceiver(features, inputs)"
      ],
      "execution_count": 0,
      "outputs": []
    },
    {
      "cell_type": "code",
      "metadata": {
        "id": "mm-ll9TYdZxs",
        "colab_type": "code",
        "colab": {}
      },
      "source": [
        "def image_classifier(features, labels, mode, params):\n",
        "  ylogits, nclasses = linear_model(features['image'])\n",
        "  probabilities = tf.nn.softmax(ylogits)\n",
        "  classes = tf.cast(tf.argmax(probabilities, 1), tf.uint8)\n",
        "  \n",
        "  if mode == tf.estimator.ModeKeys.TRAIN or mode == tf.estimator.ModeKeys.EVAL:\n",
        "    loss = tf.reduce_mean(tf.nn.softmax_cross_entropy_with_logits_v2(logits=ylogits, labels=labels))\n",
        "    evalmetrics =  {'accuracy': tf.metrics.accuracy(classes, tf.argmax(labels, 1))}\n",
        "    if mode == tf.estimator.ModeKeys.TRAIN:\n",
        "      train_op = tf.contrib.layers.optimize_loss(loss, tf.train.get_global_step(),\n",
        "                                                 learning_rate=params['learning_rate'],\n",
        "                                                 optimizer= tf.contrib.tpu.CrossShardOptimizer(lambda lr: tf.train.RMSPropOptimizer(learning_rate = lr,momentum = 0.5,epsilon = 0.01)),\n",
        "                                                 learning_rate_decay_fn = lambda lr,g_step: tf.train.exponential_decay(lr,g_step,1,1/1.00004),)                                            \n",
        "    else:\n",
        "      train_op = None\n",
        "  else:\n",
        "    loss = None\n",
        "    train_op = None\n",
        "    evalmetrics = None\n",
        " \n",
        "  return tf.contrib.tpu.TPUEstimatorSpec(\n",
        "        mode=mode,\n",
        "        predictions={\"probabilities\": probabilities, \"classes\": classes},\n",
        "        loss=loss,\n",
        "        train_op=train_op,\n",
        "        eval_metric_ops=evalmetrics,\n",
        "        export_outputs={'classes': tf.estimator.export.PredictOutput({\"probabilities\": probabilities, \"classes\": classes})}\n",
        "    )"
      ],
      "execution_count": 0,
      "outputs": []
    },
    {
      "cell_type": "code",
      "metadata": {
        "id": "QNHhVjzOdcCL",
        "colab_type": "code",
        "colab": {}
      },
      "source": [
        "def train_and_evaluate(output_dir, hparams):\n",
        "  estimator = tf.contrib.tpu.TPUEstimator(model_fn = image_classifier,\n",
        "                                     params = hparams,\n",
        "                                     config=tf.contrib.tpu.RunConfig(cluster= tf.contrib.cluster_resolver.TPUClusterResolver(TPU_WORKER)),\n",
        "                                     train_batch_size = 512,\n",
        "                                     model_dir = output_dir,\n",
        "                                     use_tpu=False)\n",
        "  train_spec = tf.estimator.TrainSpec(input_fn = train_input_fn,\n",
        "                                    max_steps = hparams['train_steps'])\n",
        "  exporter = tf.estimator.LatestExporter('Servo', serving_input_fn)\n",
        "  eval_spec = tf.estimator.EvalSpec(input_fn = eval_input_fn,\n",
        "                                  steps = None,\n",
        "                                  exporters = exporter)\n",
        "  tf.estimator.train_and_evaluate(estimator, train_spec, eval_spec)"
      ],
      "execution_count": 0,
      "outputs": []
    },
    {
      "cell_type": "code",
      "metadata": {
        "id": "9m7MGMtIdehy",
        "colab_type": "code",
        "colab": {}
      },
      "source": [
        "OUTDIR='mnist/learned'\n",
        "shutil.rmtree(OUTDIR, ignore_errors = True) # start fresh each time\n",
        "\n",
        "hparams = {'train_steps': 100000, 'learning_rate': 0.025}\n",
        "train_and_evaluate(OUTDIR, hparams)"
      ],
      "execution_count": 0,
      "outputs": []
    },
    {
      "cell_type": "markdown",
      "metadata": {
        "id": "SZlAgsl8O1ou",
        "colab_type": "text"
      },
      "source": [
        ""
      ]
    },
    {
      "cell_type": "code",
      "metadata": {
        "id": "TwDUXhUwpg1Y",
        "colab_type": "code",
        "colab": {}
      },
      "source": [
        "OUTDIR='mnist/learned'\n",
        "shutil.rmtree(OUTDIR, ignore_errors = True) # start fresh each time\n",
        "\n",
        "hparams = {'train_steps': 1000, 'learning_rate': 0.01}\n",
        "train_and_evaluate(OUTDIR, hparams)"
      ],
      "execution_count": 0,
      "outputs": []
    },
    {
      "cell_type": "code",
      "metadata": {
        "id": "4ir88Uq3XHnu",
        "colab_type": "code",
        "outputId": "210ee610-adee-49ec-a25c-33158c290a12",
        "colab": {
          "base_uri": "https://localhost:8080/",
          "height": 102
        }
      },
      "source": [
        "for i in range(11,20+1,2):\n",
        "  print(i)"
      ],
      "execution_count": 0,
      "outputs": [
        {
          "output_type": "stream",
          "text": [
            "11\n",
            "13\n",
            "15\n",
            "17\n",
            "19\n"
          ],
          "name": "stdout"
        }
      ]
    }
  ]
}